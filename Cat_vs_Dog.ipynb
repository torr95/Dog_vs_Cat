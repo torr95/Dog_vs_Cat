{
  "nbformat": 4,
  "nbformat_minor": 0,
  "metadata": {
    "colab": {
      "name": "Cat_vs_Dog.ipynb",
      "version": "0.3.2",
      "views": {},
      "default_view": {},
      "provenance": [],
      "collapsed_sections": []
    },
    "kernelspec": {
      "name": "python3",
      "display_name": "Python 3"
    },
    "accelerator": "GPU"
  },
  "cells": [
    {
      "metadata": {
        "id": "Xmyr2CblS9-h",
        "colab_type": "code",
        "colab": {
          "autoexec": {
            "startup": false,
            "wait_interval": 0
          },
          "base_uri": "https://localhost:8080/",
          "height": 109
        },
        "outputId": "a317c860-8543-4379-ebdc-9769a94673e1",
        "executionInfo": {
          "status": "ok",
          "timestamp": 1528919054629,
          "user_tz": -330,
          "elapsed": 16866,
          "user": {
            "displayName": "ayush gupta",
            "photoUrl": "//lh5.googleusercontent.com/-SmYRJDgC_jI/AAAAAAAAAAI/AAAAAAAACvk/Iqu4XSMC0tM/s50-c-k-no/photo.jpg",
            "userId": "107111856202799795670"
          }
        }
      },
      "cell_type": "code",
      "source": [
        "!apt-get install -y -qq software-properties-common python-software-properties module-init-tools\n",
        "!add-apt-repository -y ppa:alessandro-strada/ppa 2>&1 > /dev/null\n",
        "!apt-get update -qq 2>&1 > /dev/null\n",
        "!apt-get -y install -qq google-drive-ocamlfuse fuse\n",
        "from google.colab import auth\n",
        "auth.authenticate_user()\n",
        "from oauth2client.client import GoogleCredentials\n",
        "creds = GoogleCredentials.get_application_default()\n",
        "import getpass\n",
        "!google-drive-ocamlfuse -headless -id={creds.client_id} -secret={creds.client_secret} < /dev/null 2>&1 | grep URL\n",
        "vcode = getpass.getpass()\n",
        "!echo {vcode} | google-drive-ocamlfuse -headless -id={creds.client_id} -secret={creds.client_secret}"
      ],
      "execution_count": 4,
      "outputs": [
        {
          "output_type": "stream",
          "text": [
            "Please, open the following URL in a web browser: https://accounts.google.com/o/oauth2/auth?client_id=32555940559.apps.googleusercontent.com&redirect_uri=urn%3Aietf%3Awg%3Aoauth%3A2.0%3Aoob&scope=https%3A%2F%2Fwww.googleapis.com%2Fauth%2Fdrive&response_type=code&access_type=offline&approval_prompt=force\r\n",
            "··········\n",
            "Please, open the following URL in a web browser: https://accounts.google.com/o/oauth2/auth?client_id=32555940559.apps.googleusercontent.com&redirect_uri=urn%3Aietf%3Awg%3Aoauth%3A2.0%3Aoob&scope=https%3A%2F%2Fwww.googleapis.com%2Fauth%2Fdrive&response_type=code&access_type=offline&approval_prompt=force\n",
            "Please enter the verification code: Access token retrieved correctly.\n"
          ],
          "name": "stdout"
        }
      ]
    },
    {
      "metadata": {
        "id": "SgeO0_9vnYyA",
        "colab_type": "code",
        "colab": {
          "autoexec": {
            "startup": false,
            "wait_interval": 0
          },
          "base_uri": "https://localhost:8080/",
          "height": 71
        },
        "outputId": "e2b7ba22-b9ab-4f18-ac92-5e33bb9c9ea5",
        "executionInfo": {
          "status": "ok",
          "timestamp": 1528919059279,
          "user_tz": -330,
          "elapsed": 2065,
          "user": {
            "displayName": "ayush gupta",
            "photoUrl": "//lh5.googleusercontent.com/-SmYRJDgC_jI/AAAAAAAAAAI/AAAAAAAACvk/Iqu4XSMC0tM/s50-c-k-no/photo.jpg",
            "userId": "107111856202799795670"
          }
        }
      },
      "cell_type": "code",
      "source": [
        "! free -m"
      ],
      "execution_count": 5,
      "outputs": [
        {
          "output_type": "stream",
          "text": [
            "              total        used        free      shared  buff/cache   available\r\n",
            "Mem:          13029         410        2049         247       10569       12122\r\n",
            "Swap:             0           0           0\r\n"
          ],
          "name": "stdout"
        }
      ]
    },
    {
      "metadata": {
        "id": "5B1KJDtUS-H7",
        "colab_type": "code",
        "colab": {
          "autoexec": {
            "startup": false,
            "wait_interval": 0
          }
        }
      },
      "cell_type": "code",
      "source": [
        "!mkdir -p drive\n",
        "!google-drive-ocamlfuse drive"
      ],
      "execution_count": 0,
      "outputs": []
    },
    {
      "metadata": {
        "id": "QJcWHmwc1qIW",
        "colab_type": "code",
        "colab": {
          "autoexec": {
            "startup": false,
            "wait_interval": 0
          },
          "base_uri": "https://localhost:8080/",
          "height": 89
        },
        "outputId": "0957a3e5-ac54-4483-d1e9-e9fb5f6524e1",
        "executionInfo": {
          "status": "ok",
          "timestamp": 1528923847159,
          "user_tz": -330,
          "elapsed": 2916,
          "user": {
            "displayName": "ayush gupta",
            "photoUrl": "//lh5.googleusercontent.com/-SmYRJDgC_jI/AAAAAAAAAAI/AAAAAAAACvk/Iqu4XSMC0tM/s50-c-k-no/photo.jpg",
            "userId": "107111856202799795670"
          }
        }
      },
      "cell_type": "code",
      "source": [
        "!ls ./drive/datasets/dog_cat"
      ],
      "execution_count": 4,
      "outputs": [
        {
          "output_type": "stream",
          "text": [
            "dog_cat_model1.h5\t   np_arrays_test_y.npy   numpy_arrays_x\r\n",
            "dog_cat_model.h5\t   np_arrays_train_y.npy  numpy_arrays_y\r\n",
            "dog_cat_model_weights1.h5  np_array_test_x.npy\t  train_images.zip\r\n",
            "dog_cat_model_weights.h5   np_array_train_x.npy\r\n"
          ],
          "name": "stdout"
        }
      ]
    },
    {
      "metadata": {
        "id": "zllE0kLEqUtO",
        "colab_type": "text"
      },
      "cell_type": "markdown",
      "source": [
        "***Code Starts here***"
      ]
    },
    {
      "metadata": {
        "id": "dIaiJZJboef-",
        "colab_type": "code",
        "colab": {
          "autoexec": {
            "startup": false,
            "wait_interval": 0
          }
        }
      },
      "cell_type": "code",
      "source": [
        "#importing dependecies to create dataset\n",
        "from PIL import Image\n",
        "from zipfile import ZipFile\n",
        "import matplotlib.pyplot as plt\n",
        "import os\n",
        "import random\n",
        "import numpy as np\n"
      ],
      "execution_count": 0,
      "outputs": []
    },
    {
      "metadata": {
        "id": "7zJbReD3h4a9",
        "colab_type": "code",
        "colab": {
          "autoexec": {
            "startup": false,
            "wait_interval": 0
          }
        }
      },
      "cell_type": "code",
      "source": [
        "#function takes a file name and returns output label in the form of one hot vector\n",
        "#[0,1]=dog [1,0]=cat\n",
        "def output_label(l):\n",
        "    lb=l.split('.')[0]\n",
        "    #print(ar)\n",
        "    if str(lb)==str('cat'):\n",
        "        return [1,0]\n",
        "    else:\n",
        "        return [0,1]"
      ],
      "execution_count": 0,
      "outputs": []
    },
    {
      "metadata": {
        "id": "5NH1j4TGh4d3",
        "colab_type": "code",
        "colab": {
          "autoexec": {
            "startup": false,
            "wait_interval": 0
          }
        }
      },
      "cell_type": "code",
      "source": [
        "#function below loads an image, resizes it and returns corresponding numpy array\n",
        "def load_image(path,width):\n",
        "    img=Image.open(path)\n",
        "    img = img.resize((width,width))  \n",
        "    a=np.array(img)\n",
        "    return a"
      ],
      "execution_count": 0,
      "outputs": []
    },
    {
      "metadata": {
        "id": "IzhbZ6BYBa2N",
        "colab_type": "text"
      },
      "cell_type": "markdown",
      "source": [
        "***Extracting images from zip and resizing them***"
      ]
    },
    {
      "metadata": {
        "id": "Oz1ETyvsh4gs",
        "colab_type": "code",
        "colab": {
          "autoexec": {
            "startup": false,
            "wait_interval": 0
          },
          "base_uri": "https://localhost:8080/",
          "height": 467
        },
        "outputId": "ca73d280-a1ce-43af-d6b9-1548107cd255",
        "executionInfo": {
          "status": "ok",
          "timestamp": 1528832891964,
          "user_tz": -330,
          "elapsed": 82010,
          "user": {
            "displayName": "ayush gupta",
            "photoUrl": "//lh5.googleusercontent.com/-SmYRJDgC_jI/AAAAAAAAAAI/AAAAAAAACvk/Iqu4XSMC0tM/s50-c-k-no/photo.jpg",
            "userId": "107111856202799795670"
          }
        }
      },
      "cell_type": "code",
      "source": [
        "x=[]\n",
        "y=[]\n",
        "l=[]\n",
        "filename = './drive/datasets/dog_cat/train_images.zip'\n",
        "with ZipFile(filename) as archive:\n",
        "    l=archive.namelist()\n",
        "    entries=archive.infolist()\n",
        "    for i in range(len(entries)):\n",
        "        with archive.open(entries[i]) as file:\n",
        "            x.append(load_image(file,128))\n",
        "            y.append(output_label(l[i]))\n",
        "                  \n",
        "        if (i+1)%1000==0:\n",
        "          print('images processed so far',i+1)"
      ],
      "execution_count": 0,
      "outputs": [
        {
          "output_type": "stream",
          "text": [
            "images processed so far 1000\n",
            "images processed so far 2000\n",
            "images processed so far 3000\n",
            "images processed so far 4000\n",
            "images processed so far 5000\n",
            "images processed so far 6000\n",
            "images processed so far 7000\n",
            "images processed so far 8000\n",
            "images processed so far 9000\n",
            "images processed so far 10000\n",
            "images processed so far 11000\n",
            "images processed so far 12000\n",
            "images processed so far 13000\n",
            "images processed so far 14000\n",
            "images processed so far 15000\n",
            "images processed so far 16000\n",
            "images processed so far 17000\n",
            "images processed so far 18000\n",
            "images processed so far 19000\n",
            "images processed so far 20000\n",
            "images processed so far 21000\n",
            "images processed so far 22000\n",
            "images processed so far 23000\n",
            "images processed so far 24000\n",
            "images processed so far 25000\n"
          ],
          "name": "stdout"
        }
      ]
    },
    {
      "metadata": {
        "id": "vxdDBh5ieREt",
        "colab_type": "code",
        "colab": {
          "autoexec": {
            "startup": false,
            "wait_interval": 0
          }
        }
      },
      "cell_type": "code",
      "source": [
        "# spliting into training and testing data\n",
        "from sklearn.model_selection import train_test_split\n",
        "train_data,test_data,train_label,test_label=train_test_split(x,y,test_size=0.2,random_state=16)"
      ],
      "execution_count": 0,
      "outputs": []
    },
    {
      "metadata": {
        "id": "-89-n5HSP_m3",
        "colab_type": "code",
        "colab": {
          "autoexec": {
            "startup": false,
            "wait_interval": 0
          }
        }
      },
      "cell_type": "code",
      "source": [
        "# converting them into numpy array\n",
        "train_x=np.array(train_data)\n",
        "train_y=np.array(train_label)\n",
        "\n",
        "test_x=np.array(test_data)\n",
        "test_y=np.array(test_label)\n",
        "\n"
      ],
      "execution_count": 0,
      "outputs": []
    },
    {
      "metadata": {
        "id": "Tb9dC8R5iyPI",
        "colab_type": "code",
        "colab": {
          "autoexec": {
            "startup": false,
            "wait_interval": 0
          },
          "base_uri": "https://localhost:8080/",
          "height": 89
        },
        "outputId": "ee10132d-3767-4f02-f281-ea951b0b1303",
        "executionInfo": {
          "status": "ok",
          "timestamp": 1528833054098,
          "user_tz": -330,
          "elapsed": 1235,
          "user": {
            "displayName": "ayush gupta",
            "photoUrl": "//lh5.googleusercontent.com/-SmYRJDgC_jI/AAAAAAAAAAI/AAAAAAAACvk/Iqu4XSMC0tM/s50-c-k-no/photo.jpg",
            "userId": "107111856202799795670"
          }
        }
      },
      "cell_type": "code",
      "source": [
        "# printing shapes of traing and testing data\n",
        "print(train_x.shape)\n",
        "print(train_y.shape)\n",
        "\n",
        "print(test_x.shape)\n",
        "print(test_y.shape)"
      ],
      "execution_count": 0,
      "outputs": [
        {
          "output_type": "stream",
          "text": [
            "20000\n",
            "(20000, 2)\n",
            "(5000, 128, 128, 3)\n",
            "(5000, 2)\n"
          ],
          "name": "stdout"
        }
      ]
    },
    {
      "metadata": {
        "id": "lDqS_nfviwsN",
        "colab_type": "code",
        "colab": {
          "autoexec": {
            "startup": false,
            "wait_interval": 0
          }
        }
      },
      "cell_type": "code",
      "source": [
        "del x\n",
        "del y\n",
        "del train_data\n",
        "del test_data\n",
        "del train_label\n",
        "del test_label"
      ],
      "execution_count": 0,
      "outputs": []
    },
    {
      "metadata": {
        "id": "F6Uw-plRB6Fw",
        "colab_type": "text"
      },
      "cell_type": "markdown",
      "source": [
        "**Save the numpy array, to reduce the computation needed for extracting and preprocessing**"
      ]
    },
    {
      "metadata": {
        "id": "LK8MaHmfmrfY",
        "colab_type": "code",
        "colab": {
          "autoexec": {
            "startup": false,
            "wait_interval": 0
          }
        }
      },
      "cell_type": "code",
      "source": [
        "np.save('./drive/datasets/dog_cat/np_array_train_x.npy',train_x)\n",
        "np.save('./drive/datasets/dog_cat/np_arrays_train_y.npy',train_y)\n",
        "\n",
        "np.save('./drive/datasets/dog_cat/np_array_test_x.npy',test_x)\n",
        "np.save('./drive/datasets/dog_cat/np_arrays_test_y.npy',test_y)"
      ],
      "execution_count": 0,
      "outputs": []
    },
    {
      "metadata": {
        "id": "jeZ2SAxqr2UF",
        "colab_type": "code",
        "colab": {
          "autoexec": {
            "startup": false,
            "wait_interval": 0
          },
          "base_uri": "https://localhost:8080/",
          "height": 71
        },
        "outputId": "9b491bcf-8eb6-40d3-de46-75e94c09bc1b",
        "executionInfo": {
          "status": "ok",
          "timestamp": 1528836750008,
          "user_tz": -330,
          "elapsed": 2061,
          "user": {
            "displayName": "ayush gupta",
            "photoUrl": "//lh5.googleusercontent.com/-SmYRJDgC_jI/AAAAAAAAAAI/AAAAAAAACvk/Iqu4XSMC0tM/s50-c-k-no/photo.jpg",
            "userId": "107111856202799795670"
          }
        }
      },
      "cell_type": "code",
      "source": [
        "! free -m"
      ],
      "execution_count": 0,
      "outputs": [
        {
          "output_type": "stream",
          "text": [
            "              total        used        free      shared  buff/cache   available\r\n",
            "Mem:          13029         450        7683         247        4895       12095\r\n",
            "Swap:             0           0           0\r\n"
          ],
          "name": "stdout"
        }
      ]
    },
    {
      "metadata": {
        "id": "9G5Vm2JRrzap",
        "colab_type": "code",
        "colab": {
          "autoexec": {
            "startup": false,
            "wait_interval": 0
          },
          "base_uri": "https://localhost:8080/",
          "height": 53
        },
        "outputId": "421172a8-3d7a-44fe-94fd-63a44d296140",
        "executionInfo": {
          "status": "ok",
          "timestamp": 1528836753967,
          "user_tz": -330,
          "elapsed": 2788,
          "user": {
            "displayName": "ayush gupta",
            "photoUrl": "//lh5.googleusercontent.com/-SmYRJDgC_jI/AAAAAAAAAAI/AAAAAAAACvk/Iqu4XSMC0tM/s50-c-k-no/photo.jpg",
            "userId": "107111856202799795670"
          }
        }
      },
      "cell_type": "code",
      "source": [
        "!ls ./drive/datasets/dog_cat"
      ],
      "execution_count": 0,
      "outputs": [
        {
          "output_type": "stream",
          "text": [
            "np_arrays_test_y.npy   np_array_test_x.npy   numpy_arrays_x  train_images.zip\r\n",
            "np_arrays_train_y.npy  np_array_train_x.npy  numpy_arrays_y\r\n"
          ],
          "name": "stdout"
        }
      ]
    },
    {
      "metadata": {
        "id": "0qZA0J1lCUNJ",
        "colab_type": "text"
      },
      "cell_type": "markdown",
      "source": [
        "***Now Numpy array can be loaded from disk and used***"
      ]
    },
    {
      "metadata": {
        "id": "AoLWruF0jebt",
        "colab_type": "code",
        "colab": {
          "autoexec": {
            "startup": false,
            "wait_interval": 0
          }
        }
      },
      "cell_type": "code",
      "source": [
        "# Loading all the corresponding numpy array\n",
        "\n",
        "train_x = np.load('./drive/datasets/dog_cat/np_array_train_x.npy')\n",
        "train_y = np.load('./drive/datasets/dog_cat/np_arrays_train_y.npy')\n",
        "\n",
        "test_x = np.load('./drive/datasets/dog_cat/np_array_test_x.npy')\n",
        "test_y = np.load('./drive/datasets/dog_cat/np_arrays_test_y.npy')"
      ],
      "execution_count": 0,
      "outputs": []
    },
    {
      "metadata": {
        "id": "iLo02VTknokM",
        "colab_type": "code",
        "colab": {
          "autoexec": {
            "startup": false,
            "wait_interval": 0
          },
          "base_uri": "https://localhost:8080/",
          "height": 71
        },
        "outputId": "2b1ce28e-cb1b-4779-e1fd-29a0c506c46b",
        "executionInfo": {
          "status": "ok",
          "timestamp": 1528919098598,
          "user_tz": -330,
          "elapsed": 2085,
          "user": {
            "displayName": "ayush gupta",
            "photoUrl": "//lh5.googleusercontent.com/-SmYRJDgC_jI/AAAAAAAAAAI/AAAAAAAACvk/Iqu4XSMC0tM/s50-c-k-no/photo.jpg",
            "userId": "107111856202799795670"
          }
        }
      },
      "cell_type": "code",
      "source": [
        "! free -m"
      ],
      "execution_count": 10,
      "outputs": [
        {
          "output_type": "stream",
          "text": [
            "              total        used        free      shared  buff/cache   available\r\n",
            "Mem:          13029        1647         245         247       11136       10885\r\n",
            "Swap:             0           0           0\r\n"
          ],
          "name": "stdout"
        }
      ]
    },
    {
      "metadata": {
        "id": "cdRtqQwxCnih",
        "colab_type": "text"
      },
      "cell_type": "markdown",
      "source": [
        "***Creating the Model***"
      ]
    },
    {
      "metadata": {
        "id": "x23m4Voc5xJP",
        "colab_type": "code",
        "colab": {
          "autoexec": {
            "startup": false,
            "wait_interval": 0
          },
          "base_uri": "https://localhost:8080/",
          "height": 575
        },
        "outputId": "0875bfb8-6b34-46b5-af25-92707e8032c9",
        "executionInfo": {
          "status": "ok",
          "timestamp": 1528923944965,
          "user_tz": -330,
          "elapsed": 1303,
          "user": {
            "displayName": "ayush gupta",
            "photoUrl": "//lh5.googleusercontent.com/-SmYRJDgC_jI/AAAAAAAAAAI/AAAAAAAACvk/Iqu4XSMC0tM/s50-c-k-no/photo.jpg",
            "userId": "107111856202799795670"
          }
        }
      },
      "cell_type": "code",
      "source": [
        "from keras.models import Sequential\n",
        "from keras.layers import Dense, Dropout, Flatten, Conv2D, MaxPool2D\n",
        "\n",
        "\n",
        "# Set the CNN model \n",
        "# my CNN architechture is In -> [[Conv2D->relu]*2 -> MaxPool2D -> Dropout]*2 -> Flatten -> Dense -> Dropout -> Out\n",
        "\n",
        "model = Sequential()\n",
        "\n",
        "model.add(Conv2D(filters = 32, kernel_size = (5,5),padding = 'Same', \n",
        "                 activation ='relu', input_shape = (128,128,3)))\n",
        "model.add(Conv2D(filters = 32, kernel_size = (5,5),padding = 'Same', \n",
        "                 activation ='relu'))\n",
        "model.add(MaxPool2D(pool_size=(2,2)))\n",
        "model.add(Dropout(0.25))\n",
        "\n",
        "\n",
        "model.add(Conv2D(filters = 64, kernel_size = (3,3),padding = 'Same', \n",
        "                 activation ='relu'))\n",
        "model.add(Conv2D(filters = 64, kernel_size = (3,3),padding = 'Same', \n",
        "                 activation ='relu'))\n",
        "model.add(MaxPool2D(pool_size=(2,2), strides=(2,2)))\n",
        "model.add(Dropout(0.25))\n",
        "\n",
        "\n",
        "model.add(Flatten())\n",
        "model.add(Dense(256, activation = \"relu\"))\n",
        "model.add(Dropout(0.5))\n",
        "model.add(Dense(2, activation = \"softmax\"))\n",
        "model.summary()"
      ],
      "execution_count": 10,
      "outputs": [
        {
          "output_type": "stream",
          "text": [
            "_________________________________________________________________\n",
            "Layer (type)                 Output Shape              Param #   \n",
            "=================================================================\n",
            "conv2d_1 (Conv2D)            (None, 128, 128, 32)      2432      \n",
            "_________________________________________________________________\n",
            "conv2d_2 (Conv2D)            (None, 128, 128, 32)      25632     \n",
            "_________________________________________________________________\n",
            "max_pooling2d_1 (MaxPooling2 (None, 64, 64, 32)        0         \n",
            "_________________________________________________________________\n",
            "dropout_1 (Dropout)          (None, 64, 64, 32)        0         \n",
            "_________________________________________________________________\n",
            "conv2d_3 (Conv2D)            (None, 64, 64, 64)        18496     \n",
            "_________________________________________________________________\n",
            "conv2d_4 (Conv2D)            (None, 64, 64, 64)        36928     \n",
            "_________________________________________________________________\n",
            "max_pooling2d_2 (MaxPooling2 (None, 32, 32, 64)        0         \n",
            "_________________________________________________________________\n",
            "dropout_2 (Dropout)          (None, 32, 32, 64)        0         \n",
            "_________________________________________________________________\n",
            "flatten_1 (Flatten)          (None, 65536)             0         \n",
            "_________________________________________________________________\n",
            "dense_1 (Dense)              (None, 256)               16777472  \n",
            "_________________________________________________________________\n",
            "dropout_3 (Dropout)          (None, 256)               0         \n",
            "_________________________________________________________________\n",
            "dense_2 (Dense)              (None, 2)                 514       \n",
            "=================================================================\n",
            "Total params: 16,861,474\n",
            "Trainable params: 16,861,474\n",
            "Non-trainable params: 0\n",
            "_________________________________________________________________\n"
          ],
          "name": "stdout"
        }
      ]
    },
    {
      "metadata": {
        "id": "5pnxbpA1gN4p",
        "colab_type": "code",
        "colab": {
          "autoexec": {
            "startup": false,
            "wait_interval": 0
          }
        }
      },
      "cell_type": "code",
      "source": [
        "# Define the optimizer\n",
        "from keras.optimizers import RMSprop\n",
        "from keras.optimizers import Adam,SGD\n",
        "optimizer = SGD(lr=0.01, momentum=0.9,nesterov=True)\n",
        "#optimizer = RMSprop(lr=0.01)"
      ],
      "execution_count": 0,
      "outputs": []
    },
    {
      "metadata": {
        "id": "Br6qaH0RgcQc",
        "colab_type": "code",
        "colab": {
          "autoexec": {
            "startup": false,
            "wait_interval": 0
          }
        }
      },
      "cell_type": "code",
      "source": [
        "# Set a learning rate annealer\n",
        "#this is to reduce the learning rate after some patience with some factor till min_lr\n",
        "\n",
        "from keras.callbacks import ReduceLROnPlateau\n",
        "learning_rate_reduction = ReduceLROnPlateau(monitor='val_acc', \n",
        "                                            patience=3, \n",
        "                                            verbose=1, \n",
        "                                            factor=0.2, \n",
        "                                            min_lr=0.0001)"
      ],
      "execution_count": 0,
      "outputs": []
    },
    {
      "metadata": {
        "id": "5Vb1CtpGC73t",
        "colab_type": "text"
      },
      "cell_type": "markdown",
      "source": [
        "**Loss = \"categorical_crossentropy\" for classification and optimizer is SGD**"
      ]
    },
    {
      "metadata": {
        "id": "5d5cP39sgVAr",
        "colab_type": "code",
        "colab": {
          "autoexec": {
            "startup": false,
            "wait_interval": 0
          }
        }
      },
      "cell_type": "code",
      "source": [
        "# Compile the model\n",
        "model.compile(optimizer = optimizer , loss = \"categorical_crossentropy\", metrics=[\"accuracy\"])"
      ],
      "execution_count": 0,
      "outputs": []
    },
    {
      "metadata": {
        "id": "EvNWU_GWghsS",
        "colab_type": "code",
        "colab": {
          "autoexec": {
            "startup": false,
            "wait_interval": 0
          }
        }
      },
      "cell_type": "code",
      "source": [
        "epochs = 20\n",
        "batch_size = 100\n",
        "\n",
        "nb_train_samples=int(train_x.shape[0])\n",
        "nb_validation_samples=int(test_x.shape[0])\n",
        "\n",
        "steps_per_epoch=nb_train_samples // batch_size\n",
        "validation_steps=nb_validation_samples // batch_size"
      ],
      "execution_count": 0,
      "outputs": []
    },
    {
      "metadata": {
        "id": "MEkra7vwlfKs",
        "colab_type": "code",
        "colab": {
          "autoexec": {
            "startup": false,
            "wait_interval": 0
          },
          "base_uri": "https://localhost:8080/",
          "height": 89
        },
        "outputId": "1e5df784-37ce-4f57-e4ae-1f6adb6dc677",
        "executionInfo": {
          "status": "ok",
          "timestamp": 1528923974563,
          "user_tz": -330,
          "elapsed": 1154,
          "user": {
            "displayName": "ayush gupta",
            "photoUrl": "//lh5.googleusercontent.com/-SmYRJDgC_jI/AAAAAAAAAAI/AAAAAAAACvk/Iqu4XSMC0tM/s50-c-k-no/photo.jpg",
            "userId": "107111856202799795670"
          }
        }
      },
      "cell_type": "code",
      "source": [
        "print(nb_train_samples)\n",
        "print(nb_validation_samples)\n",
        "print(steps_per_epoch)\n",
        "print(validation_steps)"
      ],
      "execution_count": 14,
      "outputs": [
        {
          "output_type": "stream",
          "text": [
            "20000\n",
            "5000\n",
            "200\n",
            "50\n"
          ],
          "name": "stdout"
        }
      ]
    },
    {
      "metadata": {
        "id": "m4LpueNo-NKX",
        "colab_type": "text"
      },
      "cell_type": "markdown",
      "source": [
        "**Using Keras ImageDataGenerator for image augmentation**"
      ]
    },
    {
      "metadata": {
        "id": "gqOJ2Mb2Iy_I",
        "colab_type": "code",
        "colab": {
          "autoexec": {
            "startup": false,
            "wait_interval": 0
          }
        }
      },
      "cell_type": "code",
      "source": [
        "from keras.preprocessing.image import ImageDataGenerator\n",
        "\n",
        "train_datagen = ImageDataGenerator(\n",
        "    rescale=1. / 255,\n",
        "    shear_range=0.2,\n",
        "    zoom_range=0.2,\n",
        "    horizontal_flip=True)\n",
        "\n",
        "val_datagen = ImageDataGenerator(\n",
        "    rescale=1. / 255,\n",
        "    shear_range=0.2,\n",
        "    zoom_range=0.2,\n",
        "    horizontal_flip=True)\n"
      ],
      "execution_count": 0,
      "outputs": []
    },
    {
      "metadata": {
        "id": "pM7pu39t_rnv",
        "colab_type": "text"
      },
      "cell_type": "markdown",
      "source": [
        "Use of  ***fit_generator***  and ***predict_genrator*** with custom data generator functions which can load images to memory duuring training and prediction."
      ]
    },
    {
      "metadata": {
        "id": "0DJSENH-_bKN",
        "colab_type": "text"
      },
      "cell_type": "markdown",
      "source": [
        "There is ***ImageDataGenerator()***  in Keras which provides one such generator, which we can create using ***flow()*** or ***flow_from_directory***\n",
        "\n",
        "[>>flow and flow from directory](https://towardsdatascience.com/keras-a-thing-you-should-know-about-keras-if-you-plan-to-train-a-deep-learning-model-on-a-large-fdd63ce66bd2)"
      ]
    },
    {
      "metadata": {
        "id": "VWsKd_cIwR2s",
        "colab_type": "code",
        "colab": {
          "autoexec": {
            "startup": false,
            "wait_interval": 0
          }
        }
      },
      "cell_type": "code",
      "source": [
        "train_generator = train_datagen.flow(train_x, train_y, batch_size=batch_size)\n",
        "validation_generator = val_datagen.flow(test_x, test_y, batch_size=batch_size)"
      ],
      "execution_count": 0,
      "outputs": []
    },
    {
      "metadata": {
        "id": "J-WVPG_qn03I",
        "colab_type": "code",
        "colab": {
          "autoexec": {
            "startup": false,
            "wait_interval": 0
          },
          "base_uri": "https://localhost:8080/",
          "height": 71
        },
        "outputId": "a87d0791-8f31-42d8-b7f6-96f6ac2a97b5",
        "executionInfo": {
          "status": "ok",
          "timestamp": 1528923988119,
          "user_tz": -330,
          "elapsed": 2486,
          "user": {
            "displayName": "ayush gupta",
            "photoUrl": "//lh5.googleusercontent.com/-SmYRJDgC_jI/AAAAAAAAAAI/AAAAAAAACvk/Iqu4XSMC0tM/s50-c-k-no/photo.jpg",
            "userId": "107111856202799795670"
          }
        }
      },
      "cell_type": "code",
      "source": [
        "! free -m"
      ],
      "execution_count": 17,
      "outputs": [
        {
          "output_type": "stream",
          "text": [
            "              total        used        free      shared  buff/cache   available\r\n",
            "Mem:          13029        7160         164         378        5704        5242\r\n",
            "Swap:             0           0           0\r\n"
          ],
          "name": "stdout"
        }
      ]
    },
    {
      "metadata": {
        "id": "TtlvUvK0AzFe",
        "colab_type": "code",
        "colab": {
          "autoexec": {
            "startup": false,
            "wait_interval": 0
          },
          "base_uri": "https://localhost:8080/",
          "height": 757
        },
        "outputId": "e006fe4a-96c8-4052-ab3a-2c04ae7ef7c1",
        "executionInfo": {
          "status": "ok",
          "timestamp": 1528921617803,
          "user_tz": -330,
          "elapsed": 2473794,
          "user": {
            "displayName": "ayush gupta",
            "photoUrl": "//lh5.googleusercontent.com/-SmYRJDgC_jI/AAAAAAAAAAI/AAAAAAAACvk/Iqu4XSMC0tM/s50-c-k-no/photo.jpg",
            "userId": "107111856202799795670"
          }
        }
      },
      "cell_type": "code",
      "source": [
        "# Fit the model\n",
        "history=model.fit_generator(\n",
        "    train_generator, \n",
        "    steps_per_epoch=steps_per_epoch,\n",
        "    epochs=epochs,\n",
        "    validation_data=validation_generator,\n",
        "    validation_steps=validation_steps,\n",
        "    callbacks=[learning_rate_reduction]\n",
        ")"
      ],
      "execution_count": 20,
      "outputs": [
        {
          "output_type": "stream",
          "text": [
            "Epoch 1/20\n",
            "200/200 [==============================] - 129s 647ms/step - loss: 0.6838 - acc: 0.5595 - val_loss: 0.6670 - val_acc: 0.5876\n",
            "Epoch 2/20\n",
            "200/200 [==============================] - 123s 615ms/step - loss: 0.6380 - acc: 0.6408 - val_loss: 0.6291 - val_acc: 0.6526\n",
            "Epoch 3/20\n",
            " 98/200 [=============>................] - ETA: 48s - loss: 0.6079 - acc: 0.6707"
          ],
          "name": "stdout"
        },
        {
          "output_type": "stream",
          "text": [
            "200/200 [==============================] - 123s 617ms/step - loss: 0.5977 - acc: 0.6784 - val_loss: 0.5538 - val_acc: 0.7142\n",
            "Epoch 4/20\n",
            "200/200 [==============================] - 123s 616ms/step - loss: 0.5575 - acc: 0.7078 - val_loss: 0.5152 - val_acc: 0.7466\n",
            "Epoch 5/20\n",
            "136/200 [===================>..........] - ETA: 31s - loss: 0.5377 - acc: 0.7261"
          ],
          "name": "stdout"
        },
        {
          "output_type": "stream",
          "text": [
            "200/200 [==============================] - 124s 619ms/step - loss: 0.5305 - acc: 0.7328 - val_loss: 0.4964 - val_acc: 0.7674\n",
            "Epoch 6/20\n",
            "200/200 [==============================] - 123s 617ms/step - loss: 0.5025 - acc: 0.7512 - val_loss: 0.4846 - val_acc: 0.7622\n",
            "Epoch 7/20\n",
            "145/200 [====================>.........] - ETA: 26s - loss: 0.4808 - acc: 0.7648"
          ],
          "name": "stdout"
        },
        {
          "output_type": "stream",
          "text": [
            "200/200 [==============================] - 123s 616ms/step - loss: 0.4818 - acc: 0.7665 - val_loss: 0.4665 - val_acc: 0.7856\n",
            "Epoch 8/20\n",
            "200/200 [==============================] - 123s 616ms/step - loss: 0.4610 - acc: 0.7804 - val_loss: 0.4355 - val_acc: 0.8008\n",
            "Epoch 9/20\n",
            "147/200 [=====================>........] - ETA: 25s - loss: 0.4435 - acc: 0.7912"
          ],
          "name": "stdout"
        },
        {
          "output_type": "stream",
          "text": [
            "200/200 [==============================] - 123s 617ms/step - loss: 0.4424 - acc: 0.7923 - val_loss: 0.4487 - val_acc: 0.7878\n",
            "Epoch 10/20\n",
            "200/200 [==============================] - 123s 617ms/step - loss: 0.4242 - acc: 0.8047 - val_loss: 0.4653 - val_acc: 0.7700\n",
            "Epoch 11/20\n",
            "146/200 [====================>.........] - ETA: 26s - loss: 0.4127 - acc: 0.8119"
          ],
          "name": "stdout"
        },
        {
          "output_type": "stream",
          "text": [
            "200/200 [==============================] - 123s 616ms/step - loss: 0.4116 - acc: 0.8123 - val_loss: 0.3970 - val_acc: 0.8222\n",
            "Epoch 12/20\n",
            "200/200 [==============================] - 124s 618ms/step - loss: 0.3930 - acc: 0.8238 - val_loss: 0.3835 - val_acc: 0.8256\n",
            "Epoch 13/20\n",
            "145/200 [====================>.........] - ETA: 26s - loss: 0.3779 - acc: 0.8303"
          ],
          "name": "stdout"
        },
        {
          "output_type": "stream",
          "text": [
            "200/200 [==============================] - 123s 617ms/step - loss: 0.3793 - acc: 0.8286 - val_loss: 0.3744 - val_acc: 0.8344\n",
            "Epoch 14/20\n",
            "200/200 [==============================] - 123s 615ms/step - loss: 0.3571 - acc: 0.8429 - val_loss: 0.3558 - val_acc: 0.8438\n",
            "Epoch 15/20\n",
            "145/200 [====================>.........] - ETA: 26s - loss: 0.3534 - acc: 0.8475"
          ],
          "name": "stdout"
        },
        {
          "output_type": "stream",
          "text": [
            "200/200 [==============================] - 123s 615ms/step - loss: 0.3542 - acc: 0.8461 - val_loss: 0.3415 - val_acc: 0.8496\n",
            "Epoch 16/20\n",
            "200/200 [==============================] - 123s 614ms/step - loss: 0.3393 - acc: 0.8526 - val_loss: 0.3274 - val_acc: 0.8554\n",
            "Epoch 17/20\n",
            "145/200 [====================>.........] - ETA: 26s - loss: 0.3302 - acc: 0.8568"
          ],
          "name": "stdout"
        },
        {
          "output_type": "stream",
          "text": [
            "200/200 [==============================] - 123s 616ms/step - loss: 0.3321 - acc: 0.8553 - val_loss: 0.3266 - val_acc: 0.8574\n",
            "Epoch 18/20\n",
            "200/200 [==============================] - 123s 616ms/step - loss: 0.3148 - acc: 0.8627 - val_loss: 0.3238 - val_acc: 0.8572\n",
            "Epoch 19/20\n",
            "145/200 [====================>.........] - ETA: 26s - loss: 0.3004 - acc: 0.8682"
          ],
          "name": "stdout"
        },
        {
          "output_type": "stream",
          "text": [
            "200/200 [==============================] - 123s 616ms/step - loss: 0.3005 - acc: 0.8696 - val_loss: 0.3308 - val_acc: 0.8522\n",
            "Epoch 20/20\n",
            "200/200 [==============================] - 123s 617ms/step - loss: 0.2926 - acc: 0.8741 - val_loss: 0.3288 - val_acc: 0.8586\n"
          ],
          "name": "stdout"
        }
      ]
    },
    {
      "metadata": {
        "id": "FnrrZNNt-osH",
        "colab_type": "text"
      },
      "cell_type": "markdown",
      "source": [
        "**Plotting the graphs**\n",
        "\n",
        "Go to [Display-deep-learning-model](https://machinelearningmastery.com/display-deep-learning-model-training-history-in-keras/) for more details.\n"
      ]
    },
    {
      "metadata": {
        "id": "kDulV30DEwHu",
        "colab_type": "code",
        "colab": {
          "autoexec": {
            "startup": false,
            "wait_interval": 0
          },
          "base_uri": "https://localhost:8080/",
          "height": 350
        },
        "outputId": "384f8e85-11ee-4e37-b57e-e03be5a14d0d",
        "executionInfo": {
          "status": "ok",
          "timestamp": 1528921742199,
          "user_tz": -330,
          "elapsed": 1437,
          "user": {
            "displayName": "ayush gupta",
            "photoUrl": "//lh5.googleusercontent.com/-SmYRJDgC_jI/AAAAAAAAAAI/AAAAAAAACvk/Iqu4XSMC0tM/s50-c-k-no/photo.jpg",
            "userId": "107111856202799795670"
          }
        }
      },
      "cell_type": "code",
      "source": [
        "# Plot the loss and accuracy curves for training and validation \n",
        "fig, ax = plt.subplots(2,1)\n",
        "ax[0].plot(history.history['loss'], color='b', label=\"Training loss\")\n",
        "ax[0].plot(history.history['val_loss'], color='r', label=\"validation loss\",axes =ax[0])\n",
        "legend = ax[0].legend(loc='best', shadow=True)\n",
        "\n",
        "ax[1].plot(history.history['acc'], color='b', label=\"Training accuracy\")\n",
        "ax[1].plot(history.history['val_acc'], color='r',label=\"Validation accuracy\")\n",
        "legend = ax[1].legend(loc='best', shadow=True)"
      ],
      "execution_count": 21,
      "outputs": [
        {
          "output_type": "display_data",
          "data": {
            "image/png": "[encoded data removed]",
            "text/plain": [
              "<matplotlib.figure.Figure at 0x7fe6c11d7198>"
            ]
          },
          "metadata": {
            "tags": []
          }
        }
      ]
    },
    {
      "metadata": {
        "id": "_yiOipWYsFy_",
        "colab_type": "code",
        "colab": {
          "autoexec": {
            "startup": false,
            "wait_interval": 0
          },
          "base_uri": "https://localhost:8080/",
          "height": 35
        },
        "outputId": "299dc5ba-6286-48b5-b63d-df0b228d79bb",
        "executionInfo": {
          "status": "ok",
          "timestamp": 1528921843341,
          "user_tz": -330,
          "elapsed": 88824,
          "user": {
            "displayName": "ayush gupta",
            "photoUrl": "//lh5.googleusercontent.com/-SmYRJDgC_jI/AAAAAAAAAAI/AAAAAAAACvk/Iqu4XSMC0tM/s50-c-k-no/photo.jpg",
            "userId": "107111856202799795670"
          }
        }
      },
      "cell_type": "code",
      "source": [
        "model.evaluate_generator(train_generator,steps_per_epoch)"
      ],
      "execution_count": 22,
      "outputs": [
        {
          "output_type": "execute_result",
          "data": {
            "text/plain": [
              "[0.26043617323040963, 0.8901500016450882]"
            ]
          },
          "metadata": {
            "tags": []
          },
          "execution_count": 22
        }
      ]
    },
    {
      "metadata": {
        "id": "Q7-P8AUWsI1a",
        "colab_type": "code",
        "colab": {
          "autoexec": {
            "startup": false,
            "wait_interval": 0
          },
          "base_uri": "https://localhost:8080/",
          "height": 35
        },
        "outputId": "2595a421-de74-4a1d-fe82-4eeca2ae617e",
        "executionInfo": {
          "status": "ok",
          "timestamp": 1528921866465,
          "user_tz": -330,
          "elapsed": 23111,
          "user": {
            "displayName": "ayush gupta",
            "photoUrl": "//lh5.googleusercontent.com/-SmYRJDgC_jI/AAAAAAAAAAI/AAAAAAAACvk/Iqu4XSMC0tM/s50-c-k-no/photo.jpg",
            "userId": "107111856202799795670"
          }
        }
      },
      "cell_type": "code",
      "source": [
        "model.evaluate_generator(validation_generator,validation_steps)"
      ],
      "execution_count": 23,
      "outputs": [
        {
          "output_type": "execute_result",
          "data": {
            "text/plain": [
              "[0.3271132600307465, 0.8552000057697297]"
            ]
          },
          "metadata": {
            "tags": []
          },
          "execution_count": 23
        }
      ]
    },
    {
      "metadata": {
        "id": "1xrt1EDv7o52",
        "colab_type": "code",
        "colab": {
          "autoexec": {
            "startup": false,
            "wait_interval": 0
          },
          "base_uri": "https://localhost:8080/",
          "height": 53
        },
        "outputId": "59e0c995-3822-4bd2-f4bf-98c4102f01f8",
        "executionInfo": {
          "status": "ok",
          "timestamp": 1528923338294,
          "user_tz": -330,
          "elapsed": 7996,
          "user": {
            "displayName": "ayush gupta",
            "photoUrl": "//lh5.googleusercontent.com/-SmYRJDgC_jI/AAAAAAAAAAI/AAAAAAAACvk/Iqu4XSMC0tM/s50-c-k-no/photo.jpg",
            "userId": "107111856202799795670"
          }
        }
      },
      "cell_type": "code",
      "source": [
        "model.evaluate(test_x,test_y)"
      ],
      "execution_count": 41,
      "outputs": [
        {
          "output_type": "stream",
          "text": [
            "5000/5000 [==============================] - 7s 1ms/step\n"
          ],
          "name": "stdout"
        },
        {
          "output_type": "execute_result",
          "data": {
            "text/plain": [
              "[4.097232284545899, 0.739]"
            ]
          },
          "metadata": {
            "tags": []
          },
          "execution_count": 41
        }
      ]
    },
    {
      "metadata": {
        "id": "pRj7hODChnwE",
        "colab_type": "code",
        "colab": {
          "autoexec": {
            "startup": false,
            "wait_interval": 0
          },
          "base_uri": "https://localhost:8080/",
          "height": 35
        },
        "outputId": "247eadad-ed5c-4b17-a7cc-c69df777086b",
        "executionInfo": {
          "status": "ok",
          "timestamp": 1528923274964,
          "user_tz": -330,
          "elapsed": 7538,
          "user": {
            "displayName": "ayush gupta",
            "photoUrl": "//lh5.googleusercontent.com/-SmYRJDgC_jI/AAAAAAAAAAI/AAAAAAAACvk/Iqu4XSMC0tM/s50-c-k-no/photo.jpg",
            "userId": "107111856202799795670"
          }
        }
      },
      "cell_type": "code",
      "source": [
        "final_loss, final_acc = model.evaluate(test_x, test_y, verbose=0)\n",
        "print(\"Final loss: {0:.4f}, final accuracy: {1:.4f}\".format(final_loss, final_acc))"
      ],
      "execution_count": 40,
      "outputs": [
        {
          "output_type": "stream",
          "text": [
            "Final loss: 4.0972, final accuracy: 0.7390\n"
          ],
          "name": "stdout"
        }
      ]
    },
    {
      "metadata": {
        "id": "hczQ5pFVhn3f",
        "colab_type": "code",
        "colab": {
          "autoexec": {
            "startup": false,
            "wait_interval": 0
          }
        }
      },
      "cell_type": "code",
      "source": [
        "model.save_weights(\"./drive/datasets/dog_cat/dog_cat_model_weights.h5\")\n",
        "model.save('./drive/datasets/dog_cat/dog_cat_model.h5')"
      ],
      "execution_count": 0,
      "outputs": []
    },
    {
      "metadata": {
        "id": "8ZwfxXDa9Qsr",
        "colab_type": "text"
      },
      "cell_type": "markdown",
      "source": [
        "**Loading the model which was saved earlier**"
      ]
    },
    {
      "metadata": {
        "id": "g6yP9Jyb9ecm",
        "colab_type": "code",
        "colab": {
          "autoexec": {
            "startup": false,
            "wait_interval": 0
          },
          "base_uri": "https://localhost:8080/",
          "height": 71
        },
        "outputId": "68307e47-19be-43a1-ce44-849f4fd4cb8c",
        "executionInfo": {
          "status": "ok",
          "timestamp": 1528923817237,
          "user_tz": -330,
          "elapsed": 2428,
          "user": {
            "displayName": "ayush gupta",
            "photoUrl": "//lh5.googleusercontent.com/-SmYRJDgC_jI/AAAAAAAAAAI/AAAAAAAACvk/Iqu4XSMC0tM/s50-c-k-no/photo.jpg",
            "userId": "107111856202799795670"
          }
        }
      },
      "cell_type": "code",
      "source": [
        "! free -m"
      ],
      "execution_count": 1,
      "outputs": [
        {
          "output_type": "stream",
          "text": [
            "              total        used        free      shared  buff/cache   available\r\n",
            "Mem:          13029         438        7463         247        5126       12094\r\n",
            "Swap:             0           0           0\r\n"
          ],
          "name": "stdout"
        }
      ]
    },
    {
      "metadata": {
        "id": "IQaR5BZNFaeX",
        "colab_type": "code",
        "colab": {
          "autoexec": {
            "startup": false,
            "wait_interval": 0
          },
          "base_uri": "https://localhost:8080/",
          "height": 35
        },
        "outputId": "b1de5779-0208-422f-bcf4-04557d00ae76",
        "executionInfo": {
          "status": "ok",
          "timestamp": 1528923836924,
          "user_tz": -330,
          "elapsed": 15939,
          "user": {
            "displayName": "ayush gupta",
            "photoUrl": "//lh5.googleusercontent.com/-SmYRJDgC_jI/AAAAAAAAAAI/AAAAAAAACvk/Iqu4XSMC0tM/s50-c-k-no/photo.jpg",
            "userId": "107111856202799795670"
          }
        }
      },
      "cell_type": "code",
      "source": [
        "from keras.models import load_model\n",
        "new_model = load_model('./drive/datasets/dog_cat/dog_cat_model.h5')"
      ],
      "execution_count": 2,
      "outputs": [
        {
          "output_type": "stream",
          "text": [
            "Using TensorFlow backend.\n"
          ],
          "name": "stderr"
        }
      ]
    },
    {
      "metadata": {
        "id": "0DZtvklyFahu",
        "colab_type": "code",
        "colab": {
          "autoexec": {
            "startup": false,
            "wait_interval": 0
          }
        }
      },
      "cell_type": "code",
      "source": [
        "#new_model.summary()"
      ],
      "execution_count": 0,
      "outputs": []
    },
    {
      "metadata": {
        "id": "yjeCodmsFak1",
        "colab_type": "code",
        "colab": {
          "autoexec": {
            "startup": false,
            "wait_interval": 0
          }
        }
      },
      "cell_type": "code",
      "source": [
        "#new_model.get_weights()"
      ],
      "execution_count": 0,
      "outputs": []
    },
    {
      "metadata": {
        "id": "feFYAuSw9vlI",
        "colab_type": "text"
      },
      "cell_type": "markdown",
      "source": [
        "**You can train this model further  by assigning it to your own weights saved earlier, next we'll see how we can use the weights of predefined models like vgg16, this is called transfer learning.**"
      ]
    },
    {
      "metadata": {
        "id": "FjYnm1qtFan7",
        "colab_type": "code",
        "colab": {
          "autoexec": {
            "startup": false,
            "wait_interval": 0
          },
          "base_uri": "https://localhost:8080/",
          "height": 829
        },
        "outputId": "ef1680a8-af59-41bc-909f-bba3c24e136c",
        "executionInfo": {
          "status": "ok",
          "timestamp": 1528926564349,
          "user_tz": -330,
          "elapsed": 2454330,
          "user": {
            "displayName": "ayush gupta",
            "photoUrl": "//lh5.googleusercontent.com/-SmYRJDgC_jI/AAAAAAAAAAI/AAAAAAAACvk/Iqu4XSMC0tM/s50-c-k-no/photo.jpg",
            "userId": "107111856202799795670"
          }
        }
      },
      "cell_type": "code",
      "source": [
        "# Calling fit_genrator on new_model\n",
        "history=new_model.fit_generator(\n",
        "    train_generator, \n",
        "    steps_per_epoch=steps_per_epoch,\n",
        "    epochs=epochs,\n",
        "    validation_data=validation_generator,\n",
        "    validation_steps=validation_steps,\n",
        "    callbacks=[learning_rate_reduction]\n",
        ")"
      ],
      "execution_count": 20,
      "outputs": [
        {
          "output_type": "stream",
          "text": [
            "Epoch 1/20\n",
            "200/200 [==============================] - 128s 640ms/step - loss: 0.2854 - acc: 0.8757 - val_loss: 0.3095 - val_acc: 0.8730\n",
            "Epoch 2/20\n",
            "200/200 [==============================] - 123s 613ms/step - loss: 0.2718 - acc: 0.8856 - val_loss: 0.3100 - val_acc: 0.8670\n",
            "Epoch 3/20\n",
            " 98/200 [=============>................] - ETA: 47s - loss: 0.2682 - acc: 0.8868"
          ],
          "name": "stdout"
        },
        {
          "output_type": "stream",
          "text": [
            "200/200 [==============================] - 123s 615ms/step - loss: 0.2659 - acc: 0.8885 - val_loss: 0.2989 - val_acc: 0.8720\n",
            "Epoch 4/20\n",
            "200/200 [==============================] - 123s 615ms/step - loss: 0.2588 - acc: 0.8940 - val_loss: 0.3025 - val_acc: 0.8772\n",
            "Epoch 5/20\n",
            "136/200 [===================>..........] - ETA: 30s - loss: 0.2494 - acc: 0.8962"
          ],
          "name": "stdout"
        },
        {
          "output_type": "stream",
          "text": [
            "200/200 [==============================] - 123s 614ms/step - loss: 0.2520 - acc: 0.8958 - val_loss: 0.2951 - val_acc: 0.8756\n",
            "Epoch 6/20\n",
            "200/200 [==============================] - 122s 611ms/step - loss: 0.2382 - acc: 0.9005 - val_loss: 0.2814 - val_acc: 0.8798\n",
            "Epoch 7/20\n",
            "145/200 [====================>.........] - ETA: 26s - loss: 0.2325 - acc: 0.9069"
          ],
          "name": "stdout"
        },
        {
          "output_type": "stream",
          "text": [
            "200/200 [==============================] - 121s 607ms/step - loss: 0.2336 - acc: 0.9058 - val_loss: 0.2954 - val_acc: 0.8768\n",
            "Epoch 8/20\n",
            "200/200 [==============================] - 122s 612ms/step - loss: 0.2278 - acc: 0.9049 - val_loss: 0.2794 - val_acc: 0.8858\n",
            "Epoch 9/20\n",
            "147/200 [=====================>........] - ETA: 25s - loss: 0.2213 - acc: 0.9084"
          ],
          "name": "stdout"
        },
        {
          "output_type": "stream",
          "text": [
            "200/200 [==============================] - 123s 615ms/step - loss: 0.2265 - acc: 0.9063 - val_loss: 0.2855 - val_acc: 0.8806\n",
            "Epoch 10/20\n",
            "200/200 [==============================] - 122s 612ms/step - loss: 0.2115 - acc: 0.9131 - val_loss: 0.2915 - val_acc: 0.8772\n",
            "Epoch 11/20\n",
            "146/200 [====================>.........] - ETA: 25s - loss: 0.1980 - acc: 0.9177"
          ],
          "name": "stdout"
        },
        {
          "output_type": "stream",
          "text": [
            "200/200 [==============================] - 122s 612ms/step - loss: 0.2028 - acc: 0.9158 - val_loss: 0.3029 - val_acc: 0.8740\n",
            "\n",
            "Epoch 00011: ReduceLROnPlateau reducing learning rate to 0.0019999999552965165.\n",
            "Epoch 12/20\n",
            "200/200 [==============================] - 122s 612ms/step - loss: 0.1778 - acc: 0.9280 - val_loss: 0.2687 - val_acc: 0.8908\n",
            "Epoch 13/20\n",
            " 81/200 [===========>..................] - ETA: 54s - loss: 0.1694 - acc: 0.9337"
          ],
          "name": "stdout"
        },
        {
          "output_type": "stream",
          "text": [
            "200/200 [==============================] - 121s 607ms/step - loss: 0.1647 - acc: 0.9344 - val_loss: 0.2748 - val_acc: 0.8958\n",
            "Epoch 14/20\n",
            "200/200 [==============================] - 122s 611ms/step - loss: 0.1582 - acc: 0.9371 - val_loss: 0.2658 - val_acc: 0.8964\n",
            "Epoch 15/20\n",
            "131/200 [==================>...........] - ETA: 32s - loss: 0.1531 - acc: 0.9389"
          ],
          "name": "stdout"
        },
        {
          "output_type": "stream",
          "text": [
            "200/200 [==============================] - 122s 612ms/step - loss: 0.1518 - acc: 0.9400 - val_loss: 0.2881 - val_acc: 0.8886\n",
            "Epoch 16/20\n",
            "200/200 [==============================] - 122s 612ms/step - loss: 0.1462 - acc: 0.9435 - val_loss: 0.2808 - val_acc: 0.8962\n",
            "Epoch 17/20\n",
            "142/200 [====================>.........] - ETA: 27s - loss: 0.1407 - acc: 0.9426"
          ],
          "name": "stdout"
        },
        {
          "output_type": "stream",
          "text": [
            "200/200 [==============================] - 123s 613ms/step - loss: 0.1420 - acc: 0.9430 - val_loss: 0.2811 - val_acc: 0.8908\n",
            "\n",
            "Epoch 00017: ReduceLROnPlateau reducing learning rate to 0.0003999999724328518.\n",
            "Epoch 18/20\n",
            "200/200 [==============================] - 122s 611ms/step - loss: 0.1358 - acc: 0.9470 - val_loss: 0.2716 - val_acc: 0.8996\n",
            "Epoch 19/20\n",
            " 80/200 [===========>..................] - ETA: 54s - loss: 0.1342 - acc: 0.9450"
          ],
          "name": "stdout"
        },
        {
          "output_type": "stream",
          "text": [
            "200/200 [==============================] - 122s 611ms/step - loss: 0.1327 - acc: 0.9463 - val_loss: 0.2729 - val_acc: 0.8960\n",
            "Epoch 20/20\n",
            "200/200 [==============================] - 122s 609ms/step - loss: 0.1286 - acc: 0.9489 - val_loss: 0.2578 - val_acc: 0.9034\n"
          ],
          "name": "stdout"
        }
      ]
    },
    {
      "metadata": {
        "id": "RTe7QNHx-3tm",
        "colab_type": "code",
        "colab": {
          "autoexec": {
            "startup": false,
            "wait_interval": 0
          },
          "base_uri": "https://localhost:8080/",
          "height": 347
        },
        "outputId": "cf2b6863-ac81-461a-e9b6-3af2717e2b18",
        "executionInfo": {
          "status": "ok",
          "timestamp": 1528926633759,
          "user_tz": -330,
          "elapsed": 1581,
          "user": {
            "displayName": "ayush gupta",
            "photoUrl": "//lh5.googleusercontent.com/-SmYRJDgC_jI/AAAAAAAAAAI/AAAAAAAACvk/Iqu4XSMC0tM/s50-c-k-no/photo.jpg",
            "userId": "107111856202799795670"
          }
        }
      },
      "cell_type": "code",
      "source": [
        "# Plot the loss and accuracy curves for training and validation on new_model\n",
        "fig, ax = plt.subplots(2,1)\n",
        "ax[0].plot(history.history['loss'], color='b', label=\"Training loss\")\n",
        "ax[0].plot(history.history['val_loss'], color='r', label=\"validation loss\",axes =ax[0])\n",
        "legend = ax[0].legend(loc='best', shadow=True)\n",
        "\n",
        "ax[1].plot(history.history['acc'], color='b', label=\"Training accuracy\")\n",
        "ax[1].plot(history.history['val_acc'], color='r',label=\"Validation accuracy\")\n",
        "legend = ax[1].legend(loc='best', shadow=True)"
      ],
      "execution_count": 21,
      "outputs": [
        {
          "output_type": "display_data",
          "data": {
            "image/png": "[encoded data removed]",
            "text/plain": [
              "<matplotlib.figure.Figure at 0x7f6828ed08d0>"
            ]
          },
          "metadata": {
            "tags": []
          }
        }
      ]
    },
    {
      "metadata": {
        "id": "txp-F2FHWzyZ",
        "colab_type": "code",
        "colab": {
          "autoexec": {
            "startup": false,
            "wait_interval": 0
          },
          "base_uri": "https://localhost:8080/",
          "height": 35
        },
        "outputId": "c9024ad1-8d14-4341-ecba-e6003c2391f8",
        "executionInfo": {
          "status": "ok",
          "timestamp": 1528926744683,
          "user_tz": -330,
          "elapsed": 89036,
          "user": {
            "displayName": "ayush gupta",
            "photoUrl": "//lh5.googleusercontent.com/-SmYRJDgC_jI/AAAAAAAAAAI/AAAAAAAACvk/Iqu4XSMC0tM/s50-c-k-no/photo.jpg",
            "userId": "107111856202799795670"
          }
        }
      },
      "cell_type": "code",
      "source": [
        "new_model.evaluate_generator(train_generator,steps_per_epoch)"
      ],
      "execution_count": 22,
      "outputs": [
        {
          "output_type": "execute_result",
          "data": {
            "text/plain": [
              "[0.08561907796189189, 0.969950007200241]"
            ]
          },
          "metadata": {
            "tags": []
          },
          "execution_count": 22
        }
      ]
    },
    {
      "metadata": {
        "id": "iU8TT5pZIGoe",
        "colab_type": "code",
        "colab": {
          "autoexec": {
            "startup": false,
            "wait_interval": 0
          },
          "base_uri": "https://localhost:8080/",
          "height": 35
        },
        "outputId": "4efb8d5e-965e-49fb-a6c0-3e22c4d2bc08",
        "executionInfo": {
          "status": "ok",
          "timestamp": 1528926768796,
          "user_tz": -330,
          "elapsed": 24031,
          "user": {
            "displayName": "ayush gupta",
            "photoUrl": "//lh5.googleusercontent.com/-SmYRJDgC_jI/AAAAAAAAAAI/AAAAAAAACvk/Iqu4XSMC0tM/s50-c-k-no/photo.jpg",
            "userId": "107111856202799795670"
          }
        }
      },
      "cell_type": "code",
      "source": [
        "new_model.evaluate_generator(validation_generator,validation_steps)"
      ],
      "execution_count": 23,
      "outputs": [
        {
          "output_type": "execute_result",
          "data": {
            "text/plain": [
              "[0.2698046077787876, 0.8967999994754792]"
            ]
          },
          "metadata": {
            "tags": []
          },
          "execution_count": 23
        }
      ]
    },
    {
      "metadata": {
        "id": "vYhdFGJD_OFB",
        "colab_type": "code",
        "colab": {
          "autoexec": {
            "startup": false,
            "wait_interval": 0
          },
          "base_uri": "https://localhost:8080/",
          "height": 53
        },
        "outputId": "d1e87e5a-b067-45b5-b597-f8c76f2ef928",
        "executionInfo": {
          "status": "ok",
          "timestamp": 1528926878577,
          "user_tz": -330,
          "elapsed": 7674,
          "user": {
            "displayName": "ayush gupta",
            "photoUrl": "//lh5.googleusercontent.com/-SmYRJDgC_jI/AAAAAAAAAAI/AAAAAAAACvk/Iqu4XSMC0tM/s50-c-k-no/photo.jpg",
            "userId": "107111856202799795670"
          }
        }
      },
      "cell_type": "code",
      "source": [
        "new_model.evaluate(test_x,test_y)"
      ],
      "execution_count": 26,
      "outputs": [
        {
          "output_type": "stream",
          "text": [
            "5000/5000 [==============================] - 7s 1ms/step\n"
          ],
          "name": "stdout"
        },
        {
          "output_type": "execute_result",
          "data": {
            "text/plain": [
              "[3.6981506912231445, 0.767]"
            ]
          },
          "metadata": {
            "tags": []
          },
          "execution_count": 26
        }
      ]
    },
    {
      "metadata": {
        "id": "HgLRcT41FaqX",
        "colab_type": "code",
        "colab": {
          "autoexec": {
            "startup": false,
            "wait_interval": 0
          }
        }
      },
      "cell_type": "code",
      "source": [
        "# saving the new weights and model.\n",
        "new_model.save_weights(\"./drive/datasets/dog_cat/dog_cat_model_weights1.h5\")\n",
        "new_model.save('./drive/datasets/dog_cat/dog_cat_model1.h5')"
      ],
      "execution_count": 0,
      "outputs": []
    },
    {
      "metadata": {
        "id": "9dWa7TT7Abj6",
        "colab_type": "text"
      },
      "cell_type": "markdown",
      "source": [
        "**Transfer Learning using ** *** Keras  \"Applications\"*** \n",
        "\n",
        "[>> VGG16 Keras](https://keras.io/applications/#vgg16)"
      ]
    },
    {
      "metadata": {
        "id": "W9RPZwlkFayd",
        "colab_type": "code",
        "colab": {
          "autoexec": {
            "startup": false,
            "wait_interval": 0
          }
        }
      },
      "cell_type": "code",
      "source": [
        "from keras import applications\n",
        "\n",
        "img_width=128\n",
        "img_height=128\n",
        "\n",
        "model_vgg16 = applications.VGG19(weights = \"imagenet\", include_top=False, input_shape = (img_width, img_height, 3))"
      ],
      "execution_count": 0,
      "outputs": []
    },
    {
      "metadata": {
        "id": "ACYt2_NZFa1S",
        "colab_type": "code",
        "colab": {
          "autoexec": {
            "startup": false,
            "wait_interval": 0
          },
          "base_uri": "https://localhost:8080/",
          "height": 35
        },
        "outputId": "96fd1918-b940-4130-db34-da590d5fd90a",
        "executionInfo": {
          "status": "ok",
          "timestamp": 1528927964056,
          "user_tz": -330,
          "elapsed": 914,
          "user": {
            "displayName": "ayush gupta",
            "photoUrl": "//lh5.googleusercontent.com/-SmYRJDgC_jI/AAAAAAAAAAI/AAAAAAAACvk/Iqu4XSMC0tM/s50-c-k-no/photo.jpg",
            "userId": "107111856202799795670"
          }
        }
      },
      "cell_type": "code",
      "source": [
        "# Freeze the layers which you don't want to train. Here I am freezing the first 5 layers.\n",
        "\"\"\"\n",
        "for layer in model_vgg16.layers[:5]:\n",
        "    layer.trainable = False\n",
        "\"\"\""
      ],
      "execution_count": 37,
      "outputs": [
        {
          "output_type": "execute_result",
          "data": {
            "text/plain": [
              "'\\nfor layer in model_vgg16.layers[:5]:\\n    layer.trainable = False\\n'"
            ]
          },
          "metadata": {
            "tags": []
          },
          "execution_count": 37
        }
      ]
    },
    {
      "metadata": {
        "id": "pWgQCJtmFav9",
        "colab_type": "code",
        "colab": {
          "autoexec": {
            "startup": false,
            "wait_interval": 0
          }
        }
      },
      "cell_type": "code",
      "source": [
        "#Adding custom Layers \n",
        "x = model_vgg16.output\n",
        "x = Flatten()(x)\n",
        "x = Dense(1024, activation=\"relu\")(x)\n",
        "x = Dropout(0.5)(x)\n",
        "x = Dense(1024, activation=\"relu\")(x)\n",
        "predictions = Dense(2, activation=\"softmax\")(x)"
      ],
      "execution_count": 0,
      "outputs": []
    },
    {
      "metadata": {
        "id": "yZ24WJeRAlX4",
        "colab_type": "code",
        "colab": {
          "autoexec": {
            "startup": false,
            "wait_interval": 0
          },
          "base_uri": "https://localhost:8080/",
          "height": 73
        },
        "outputId": "619e31b8-b9bc-4e70-cf11-0dcba9f1be3f",
        "executionInfo": {
          "status": "ok",
          "timestamp": 1528927966584,
          "user_tz": -330,
          "elapsed": 1249,
          "user": {
            "displayName": "ayush gupta",
            "photoUrl": "//lh5.googleusercontent.com/-SmYRJDgC_jI/AAAAAAAAAAI/AAAAAAAACvk/Iqu4XSMC0tM/s50-c-k-no/photo.jpg",
            "userId": "107111856202799795670"
          }
        }
      },
      "cell_type": "code",
      "source": [
        "# creating the final model\n",
        "\n",
        "from keras.models import Sequential, Model\n",
        "model_final = Model(input = model_vgg16.input, output = predictions)"
      ],
      "execution_count": 39,
      "outputs": [
        {
          "output_type": "stream",
          "text": [
            "/usr/local/lib/python3.6/dist-packages/ipykernel_launcher.py:3: UserWarning: Update your `Model` call to the Keras 2 API: `Model(inputs=Tensor(\"in..., outputs=Tensor(\"de...)`\n",
            "  This is separate from the ipykernel package so we can avoid doing imports until\n"
          ],
          "name": "stderr"
        }
      ]
    },
    {
      "metadata": {
        "id": "vtyBerljMgSB",
        "colab_type": "code",
        "colab": {
          "autoexec": {
            "startup": false,
            "wait_interval": 0
          }
        }
      },
      "cell_type": "code",
      "source": [
        "# Define the optimizer\n",
        "from keras.optimizers import RMSprop\n",
        "from keras.optimizers import Adam,SGD\n",
        "optimizer = SGD(lr=0.001, momentum=0.9,nesterov=True)\n",
        "#optimizer = RMSprop(lr=0.01)"
      ],
      "execution_count": 0,
      "outputs": []
    },
    {
      "metadata": {
        "id": "6NAQP994MmQb",
        "colab_type": "code",
        "colab": {
          "autoexec": {
            "startup": false,
            "wait_interval": 0
          }
        }
      },
      "cell_type": "code",
      "source": [
        "# Set a learning rate annealer\n",
        "#this is to reduce the learning rate after some patience with some factor till min_lr\n",
        "\n",
        "from keras.callbacks import ReduceLROnPlateau\n",
        "learning_rate_reduction = ReduceLROnPlateau(monitor='val_acc', \n",
        "                                            patience=3, \n",
        "                                            verbose=1, \n",
        "                                            factor=0.2, \n",
        "                                            min_lr=0.00001)"
      ],
      "execution_count": 0,
      "outputs": []
    },
    {
      "metadata": {
        "id": "lvDEtFnRMrHI",
        "colab_type": "code",
        "colab": {
          "autoexec": {
            "startup": false,
            "wait_interval": 0
          }
        }
      },
      "cell_type": "code",
      "source": [
        "epochs = 10\n",
        "batch_size = 100\n",
        "\n",
        "nb_train_samples=int(train_x.shape[0])\n",
        "nb_validation_samples=int(test_x.shape[0])\n",
        "\n",
        "steps_per_epoch=nb_train_samples // batch_size\n",
        "validation_steps=nb_validation_samples // batch_size"
      ],
      "execution_count": 0,
      "outputs": []
    },
    {
      "metadata": {
        "id": "u7iEckqHMrvK",
        "colab_type": "code",
        "colab": {
          "autoexec": {
            "startup": false,
            "wait_interval": 0
          },
          "base_uri": "https://localhost:8080/",
          "height": 89
        },
        "outputId": "98a7eb5c-a694-4ee9-9071-6785f746af6a",
        "executionInfo": {
          "status": "ok",
          "timestamp": 1528928488752,
          "user_tz": -330,
          "elapsed": 1431,
          "user": {
            "displayName": "ayush gupta",
            "photoUrl": "//lh5.googleusercontent.com/-SmYRJDgC_jI/AAAAAAAAAAI/AAAAAAAACvk/Iqu4XSMC0tM/s50-c-k-no/photo.jpg",
            "userId": "107111856202799795670"
          }
        }
      },
      "cell_type": "code",
      "source": [
        "print(nb_train_samples)\n",
        "print(nb_validation_samples)\n",
        "print(steps_per_epoch)\n",
        "print(validation_steps)"
      ],
      "execution_count": 47,
      "outputs": [
        {
          "output_type": "stream",
          "text": [
            "20000\n",
            "5000\n",
            "200\n",
            "50\n"
          ],
          "name": "stdout"
        }
      ]
    },
    {
      "metadata": {
        "id": "7ld8QDUKJ5uy",
        "colab_type": "code",
        "colab": {
          "autoexec": {
            "startup": false,
            "wait_interval": 0
          }
        }
      },
      "cell_type": "code",
      "source": [
        "# Compile the model\n",
        "model_final.compile(optimizer = optimizer , loss = \"categorical_crossentropy\", metrics=[\"accuracy\"])"
      ],
      "execution_count": 0,
      "outputs": []
    },
    {
      "metadata": {
        "id": "CBBd3FddAlim",
        "colab_type": "code",
        "colab": {
          "autoexec": {
            "startup": false,
            "wait_interval": 0
          },
          "base_uri": "https://localhost:8080/",
          "height": 397
        },
        "outputId": "0a6d0201-604d-48a7-fcc8-1abdeecb04f9",
        "executionInfo": {
          "status": "ok",
          "timestamp": 1528930950193,
          "user_tz": -330,
          "elapsed": 2394927,
          "user": {
            "displayName": "ayush gupta",
            "photoUrl": "//lh5.googleusercontent.com/-SmYRJDgC_jI/AAAAAAAAAAI/AAAAAAAACvk/Iqu4XSMC0tM/s50-c-k-no/photo.jpg",
            "userId": "107111856202799795670"
          }
        }
      },
      "cell_type": "code",
      "source": [
        "# Fit the model\n",
        "history=model_final.fit_generator(\n",
        "    train_generator, \n",
        "    steps_per_epoch=steps_per_epoch,\n",
        "    epochs=epochs,\n",
        "    validation_data=validation_generator,\n",
        "    validation_steps=validation_steps,\n",
        "    callbacks=[learning_rate_reduction]\n",
        ")"
      ],
      "execution_count": 50,
      "outputs": [
        {
          "output_type": "stream",
          "text": [
            "Epoch 1/10\n",
            "200/200 [==============================] - 240s 1s/step - loss: 0.0836 - acc: 0.9681 - val_loss: 0.0917 - val_acc: 0.9632\n",
            "Epoch 2/10\n",
            "200/200 [==============================] - 239s 1s/step - loss: 0.0621 - acc: 0.9752 - val_loss: 0.0856 - val_acc: 0.9682\n",
            "Epoch 3/10\n",
            "101/200 [==============>...............] - ETA: 1:44 - loss: 0.0560 - acc: 0.9785"
          ],
          "name": "stdout"
        },
        {
          "output_type": "stream",
          "text": [
            "200/200 [==============================] - 240s 1s/step - loss: 0.0548 - acc: 0.9790 - val_loss: 0.0873 - val_acc: 0.9674\n",
            "Epoch 4/10\n",
            "200/200 [==============================] - 240s 1s/step - loss: 0.0483 - acc: 0.9821 - val_loss: 0.0833 - val_acc: 0.9698\n",
            "Epoch 5/10\n",
            "140/200 [====================>.........] - ETA: 1:03 - loss: 0.0426 - acc: 0.9820"
          ],
          "name": "stdout"
        },
        {
          "output_type": "stream",
          "text": [
            "200/200 [==============================] - 240s 1s/step - loss: 0.0440 - acc: 0.9826 - val_loss: 0.0866 - val_acc: 0.9692\n",
            "Epoch 6/10\n",
            "200/200 [==============================] - 239s 1s/step - loss: 0.0347 - acc: 0.9863 - val_loss: 0.0928 - val_acc: 0.9692\n",
            "Epoch 7/10\n",
            "149/200 [=====================>........] - ETA: 53s - loss: 0.0304 - acc: 0.9884"
          ],
          "name": "stdout"
        },
        {
          "output_type": "stream",
          "text": [
            "200/200 [==============================] - 239s 1s/step - loss: 0.0310 - acc: 0.9879 - val_loss: 0.0936 - val_acc: 0.9716\n",
            "Epoch 8/10\n",
            "200/200 [==============================] - 239s 1s/step - loss: 0.0288 - acc: 0.9893 - val_loss: 0.1024 - val_acc: 0.9668\n",
            "Epoch 9/10\n",
            "151/200 [=====================>........] - ETA: 51s - loss: 0.0238 - acc: 0.9921"
          ],
          "name": "stdout"
        },
        {
          "output_type": "stream",
          "text": [
            "200/200 [==============================] - 238s 1s/step - loss: 0.0256 - acc: 0.9913 - val_loss: 0.0771 - val_acc: 0.9750\n",
            "Epoch 10/10\n",
            "200/200 [==============================] - 239s 1s/step - loss: 0.0208 - acc: 0.9924 - val_loss: 0.0796 - val_acc: 0.9754\n"
          ],
          "name": "stdout"
        }
      ]
    },
    {
      "metadata": {
        "id": "GVG7OVdvA6zC",
        "colab_type": "code",
        "colab": {
          "autoexec": {
            "startup": false,
            "wait_interval": 0
          },
          "base_uri": "https://localhost:8080/",
          "height": 347
        },
        "outputId": "05d34589-fa90-444d-cbd3-6b3691ab4058",
        "executionInfo": {
          "status": "ok",
          "timestamp": 1528930951620,
          "user_tz": -330,
          "elapsed": 1401,
          "user": {
            "displayName": "ayush gupta",
            "photoUrl": "//lh5.googleusercontent.com/-SmYRJDgC_jI/AAAAAAAAAAI/AAAAAAAACvk/Iqu4XSMC0tM/s50-c-k-no/photo.jpg",
            "userId": "107111856202799795670"
          }
        }
      },
      "cell_type": "code",
      "source": [
        "# Plot the loss and accuracy curves for training and validation for vgg16\n",
        "fig, ax = plt.subplots(2,1)\n",
        "ax[0].plot(history.history['loss'], color='b', label=\"Training loss\")\n",
        "ax[0].plot(history.history['val_loss'], color='r', label=\"validation loss\",axes =ax[0])\n",
        "legend = ax[0].legend(loc='best', shadow=True)\n",
        "\n",
        "ax[1].plot(history.history['acc'], color='b', label=\"Training accuracy\")\n",
        "ax[1].plot(history.history['val_acc'], color='r',label=\"Validation accuracy\")\n",
        "legend = ax[1].legend(loc='best', shadow=True)"
      ],
      "execution_count": 51,
      "outputs": [
        {
          "output_type": "display_data",
          "data": {
            "image/png": "[encoded data removed]",
            "text/plain": [
              "<matplotlib.figure.Figure at 0x7f68298423c8>"
            ]
          },
          "metadata": {
            "tags": []
          }
        }
      ]
    },
    {
      "metadata": {
        "id": "ZBuHDM8CA63k",
        "colab_type": "code",
        "colab": {
          "autoexec": {
            "startup": false,
            "wait_interval": 0
          },
          "base_uri": "https://localhost:8080/",
          "height": 35
        },
        "outputId": "a80966c6-a9a6-4766-fc91-e737364aeb4e",
        "executionInfo": {
          "status": "ok",
          "timestamp": 1528931058266,
          "user_tz": -330,
          "elapsed": 106497,
          "user": {
            "displayName": "ayush gupta",
            "photoUrl": "//lh5.googleusercontent.com/-SmYRJDgC_jI/AAAAAAAAAAI/AAAAAAAACvk/Iqu4XSMC0tM/s50-c-k-no/photo.jpg",
            "userId": "107111856202799795670"
          }
        }
      },
      "cell_type": "code",
      "source": [
        "model_final.evaluate_generator(train_generator,steps_per_epoch)"
      ],
      "execution_count": 52,
      "outputs": [
        {
          "output_type": "execute_result",
          "data": {
            "text/plain": [
              "[0.010504658358840971, 0.9966000032424926]"
            ]
          },
          "metadata": {
            "tags": []
          },
          "execution_count": 52
        }
      ]
    },
    {
      "metadata": {
        "id": "RQD-bXSlA_Hq",
        "colab_type": "code",
        "colab": {
          "autoexec": {
            "startup": false,
            "wait_interval": 0
          },
          "base_uri": "https://localhost:8080/",
          "height": 35
        },
        "outputId": "02b6000a-a06c-4c1a-ee76-2ff35cd79192",
        "executionInfo": {
          "status": "ok",
          "timestamp": 1528931085800,
          "user_tz": -330,
          "elapsed": 27524,
          "user": {
            "displayName": "ayush gupta",
            "photoUrl": "//lh5.googleusercontent.com/-SmYRJDgC_jI/AAAAAAAAAAI/AAAAAAAACvk/Iqu4XSMC0tM/s50-c-k-no/photo.jpg",
            "userId": "107111856202799795670"
          }
        }
      },
      "cell_type": "code",
      "source": [
        "model_final.evaluate_generator(validation_generator,validation_steps)"
      ],
      "execution_count": 53,
      "outputs": [
        {
          "output_type": "execute_result",
          "data": {
            "text/plain": [
              "[0.08701409613713622, 0.9728000104427338]"
            ]
          },
          "metadata": {
            "tags": []
          },
          "execution_count": 53
        }
      ]
    }
  ]
}